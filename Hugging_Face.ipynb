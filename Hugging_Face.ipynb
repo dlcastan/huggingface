{
  "nbformat": 4,
  "nbformat_minor": 0,
  "metadata": {
    "colab": {
      "provenance": []
    },
    "kernelspec": {
      "name": "python3",
      "display_name": "Python 3"
    },
    "language_info": {
      "name": "python"
    }
  },
  "cells": [
    {
      "cell_type": "markdown",
      "source": [
        "# Hugging Face\n",
        "\n",
        "**Autor:** Diego Lopez Castan\n",
        "\n",
        "**URL:** https://diegolopezcastan.com/"
      ],
      "metadata": {
        "id": "ppKHJCeuIxUD"
      }
    },
    {
      "cell_type": "code",
      "source": [
        "# Instalar librerías\n",
        "!pip install transformers\n",
        "!pip install timm"
      ],
      "metadata": {
        "colab": {
          "base_uri": "https://localhost:8080/"
        },
        "id": "F6YBySuvI2s0",
        "outputId": "6b0a0f6e-c8d6-4526-cdfb-3e70a83a5bd9"
      },
      "execution_count": null,
      "outputs": [
        {
          "output_type": "stream",
          "name": "stdout",
          "text": [
            "Looking in indexes: https://pypi.org/simple, https://us-python.pkg.dev/colab-wheels/public/simple/\n",
            "Requirement already satisfied: transformers in /usr/local/lib/python3.8/dist-packages (4.26.1)\n",
            "Requirement already satisfied: tokenizers!=0.11.3,<0.14,>=0.11.1 in /usr/local/lib/python3.8/dist-packages (from transformers) (0.13.2)\n",
            "Requirement already satisfied: requests in /usr/local/lib/python3.8/dist-packages (from transformers) (2.25.1)\n",
            "Requirement already satisfied: huggingface-hub<1.0,>=0.11.0 in /usr/local/lib/python3.8/dist-packages (from transformers) (0.12.1)\n",
            "Requirement already satisfied: tqdm>=4.27 in /usr/local/lib/python3.8/dist-packages (from transformers) (4.64.1)\n",
            "Requirement already satisfied: pyyaml>=5.1 in /usr/local/lib/python3.8/dist-packages (from transformers) (6.0)\n",
            "Requirement already satisfied: regex!=2019.12.17 in /usr/local/lib/python3.8/dist-packages (from transformers) (2022.6.2)\n",
            "Requirement already satisfied: numpy>=1.17 in /usr/local/lib/python3.8/dist-packages (from transformers) (1.22.4)\n",
            "Requirement already satisfied: filelock in /usr/local/lib/python3.8/dist-packages (from transformers) (3.9.0)\n",
            "Requirement already satisfied: packaging>=20.0 in /usr/local/lib/python3.8/dist-packages (from transformers) (23.0)\n",
            "Requirement already satisfied: typing-extensions>=3.7.4.3 in /usr/local/lib/python3.8/dist-packages (from huggingface-hub<1.0,>=0.11.0->transformers) (4.5.0)\n",
            "Requirement already satisfied: idna<3,>=2.5 in /usr/local/lib/python3.8/dist-packages (from requests->transformers) (2.10)\n",
            "Requirement already satisfied: certifi>=2017.4.17 in /usr/local/lib/python3.8/dist-packages (from requests->transformers) (2022.12.7)\n",
            "Requirement already satisfied: chardet<5,>=3.0.2 in /usr/local/lib/python3.8/dist-packages (from requests->transformers) (4.0.0)\n",
            "Requirement already satisfied: urllib3<1.27,>=1.21.1 in /usr/local/lib/python3.8/dist-packages (from requests->transformers) (1.26.14)\n",
            "Looking in indexes: https://pypi.org/simple, https://us-python.pkg.dev/colab-wheels/public/simple/\n",
            "Requirement already satisfied: timm in /usr/local/lib/python3.8/dist-packages (0.6.12)\n",
            "Requirement already satisfied: torch>=1.7 in /usr/local/lib/python3.8/dist-packages (from timm) (1.13.1+cu116)\n",
            "Requirement already satisfied: huggingface-hub in /usr/local/lib/python3.8/dist-packages (from timm) (0.12.1)\n",
            "Requirement already satisfied: pyyaml in /usr/local/lib/python3.8/dist-packages (from timm) (6.0)\n",
            "Requirement already satisfied: torchvision in /usr/local/lib/python3.8/dist-packages (from timm) (0.14.1+cu116)\n",
            "Requirement already satisfied: typing-extensions in /usr/local/lib/python3.8/dist-packages (from torch>=1.7->timm) (4.5.0)\n",
            "Requirement already satisfied: tqdm>=4.42.1 in /usr/local/lib/python3.8/dist-packages (from huggingface-hub->timm) (4.64.1)\n",
            "Requirement already satisfied: requests in /usr/local/lib/python3.8/dist-packages (from huggingface-hub->timm) (2.25.1)\n",
            "Requirement already satisfied: filelock in /usr/local/lib/python3.8/dist-packages (from huggingface-hub->timm) (3.9.0)\n",
            "Requirement already satisfied: packaging>=20.9 in /usr/local/lib/python3.8/dist-packages (from huggingface-hub->timm) (23.0)\n",
            "Requirement already satisfied: pillow!=8.3.*,>=5.3.0 in /usr/local/lib/python3.8/dist-packages (from torchvision->timm) (8.4.0)\n",
            "Requirement already satisfied: numpy in /usr/local/lib/python3.8/dist-packages (from torchvision->timm) (1.22.4)\n",
            "Requirement already satisfied: urllib3<1.27,>=1.21.1 in /usr/local/lib/python3.8/dist-packages (from requests->huggingface-hub->timm) (1.26.14)\n",
            "Requirement already satisfied: chardet<5,>=3.0.2 in /usr/local/lib/python3.8/dist-packages (from requests->huggingface-hub->timm) (4.0.0)\n",
            "Requirement already satisfied: certifi>=2017.4.17 in /usr/local/lib/python3.8/dist-packages (from requests->huggingface-hub->timm) (2022.12.7)\n",
            "Requirement already satisfied: idna<3,>=2.5 in /usr/local/lib/python3.8/dist-packages (from requests->huggingface-hub->timm) (2.10)\n"
          ]
        }
      ]
    },
    {
      "cell_type": "code",
      "source": [
        "from transformers import pipeline"
      ],
      "metadata": {
        "id": "ie3wHmLAJC6x"
      },
      "execution_count": null,
      "outputs": []
    },
    {
      "cell_type": "markdown",
      "source": [
        "## Texto de Ejemplo\n",
        "\n",
        "### 📚 Resumen\n",
        "Hugging Face es una empresa de inteligencia artificial especializada en procesamiento de lenguaje natural (NLP, por sus siglas en inglés) y es conocida por su desarrollo de la arquitectura de aprendizaje profundo Transformers. La misión de la compañía es democratizar la inteligencia artificial haciéndola accesible para todos a través de software y herramientas de código abierto. \n",
        "Hugging Face ha ganado popularidad en la comunidad de NLP debido a sus herramientas fáciles de usar, soporte de la comunidad y contribuciones al desarrollo.\n",
        "\n",
        "### 🎭 Analisis de Sentimiento\n",
        "\n",
        "**Negativo**\n",
        "\n",
        "No es de muy buena calidad, una de las que compré se le rompió.\n",
        "\n",
        "**Positivo**\n",
        "\n",
        "El producto es mucho mejor que el original. Se lo siente más firme que el que viene de fábrica.\n"
      ],
      "metadata": {
        "id": "v3eHkgn6Y3rh"
      }
    },
    {
      "cell_type": "code",
      "source": [
        "import os\n",
        "from IPython.display import clear_output\n",
        "import time\n",
        "\n",
        "#@markdown # Hola 👋! Selecciona la operacion que quieres realizar 👇\n",
        "Tarea = \"Analisis Sentimiento\" #@param [\"Resumir\", \"Analisis Sentimiento\"]\n",
        "\n",
        "Texto = \"El producto es mucho mejor que el original. Se lo siente m\\xE1s firme que el que viene de f\\xE1brica.\" #@param {type:\"string\"}\n",
        "\n",
        "if Tarea == \"Resumir\":\n",
        "   modelo = pipeline(task=\"summarization\", model=\"IIC/mt5-spanish-mlsum\")\n",
        "   tarea_res = modelo(Texto, min_length=10, max_length=50)\n",
        "elif Tarea == \"Analisis Sentimiento\":\n",
        "    modelo = pipeline(task=\"text-classification\", model=\"pysentimiento/robertuito-sentiment-analysis\")\n",
        "    tarea_res = modelo(Texto)"
      ],
      "metadata": {
        "id": "LdFmugSGMuUY"
      },
      "execution_count": null,
      "outputs": []
    },
    {
      "cell_type": "code",
      "source": [
        "# Imprimir Resultado\n",
        "print(tarea_res)"
      ],
      "metadata": {
        "id": "CSk6fX8wKbKH",
        "colab": {
          "base_uri": "https://localhost:8080/"
        },
        "outputId": "d7db3239-006d-46a0-939c-2e526676789d"
      },
      "execution_count": null,
      "outputs": [
        {
          "output_type": "stream",
          "name": "stdout",
          "text": [
            "[{'label': 'POS', 'score': 0.9273540377616882}]\n"
          ]
        }
      ]
    }
  ]
}